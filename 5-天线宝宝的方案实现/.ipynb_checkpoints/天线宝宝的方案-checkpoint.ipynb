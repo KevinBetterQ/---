{
 "cells": [
  {
   "cell_type": "code",
   "execution_count": 2,
   "metadata": {
    "collapsed": false
   },
   "outputs": [],
   "source": [
    "import numpy as np\n",
    "import pandas as pd\n",
    "import warnings\n",
    "warnings.filterwarnings('ignore')\n",
    "pd.set_option('display.max_columns',None)\n",
    "from sklearn.metrics import auc,roc_curve,roc_auc_score\n",
    "import pandas as pd\n",
    "import matplotlib.pyplot as plt\n",
    "import seaborn as sns\n",
    "import random\n",
    "import copy"
   ]
  },
  {
   "cell_type": "code",
   "execution_count": 3,
   "metadata": {
    "collapsed": true
   },
   "outputs": [],
   "source": [
    "def auc(y,pred):\n",
    "    fpr, tpr, thresholds = metrics.roc_curve(y, pred, pos_label=2)\n",
    "    score = metrics.auc(fpr, tpr)\n",
    "    return score"
   ]
  },
  {
   "cell_type": "code",
   "execution_count": 4,
   "metadata": {
    "collapsed": true
   },
   "outputs": [],
   "source": [
    "# load data\n",
    "\n",
    "A_train = pd.read_csv('data/A_train.csv')\n",
    "B_train = pd.read_csv('data/B_train.csv')\n",
    "B_test = pd.read_csv('data/B_test.csv')\n",
    "NO = B_test['no']\n",
    "Bcolumns = B_train.columns\n",
    "B_train.drop('no',axis=1,inplace=True)\n",
    "B_test.drop('no',axis=1,inplace=True)"
   ]
  },
  {
   "cell_type": "code",
   "execution_count": 5,
   "metadata": {
    "collapsed": true
   },
   "outputs": [],
   "source": [
    "# 统计特征中空值百分比\n",
    "\n",
    "# 针对A_train\n",
    "A_train_columns = A_train.columns\n",
    "A_null_count_less = []\n",
    "A_null_count_large = []\n",
    "# threshold = 0.4\n",
    "for i in A_train_columns:\n",
    "    if ((A_train[i].isnull().sum()) / len(A_train[i]) <= 0.4):\n",
    "        A_null_count_less.append([i,(A_train[i].isnull().sum()) / len(A_train[i])])\n",
    "    else:\n",
    "        A_null_count_large.append([i,(A_train[i].isnull().sum()) / len(A_train[i])])\n",
    "# len(A_null_count_less)    335\n",
    "# len(A_null_count_large)   156\n",
    "\n",
    "# 针对B_train\n",
    "B_train_columns = B_train.columns\n",
    "B_null_count_less = []\n",
    "B_null_count_large = []\n",
    "# threshold = 0.63\n",
    "for i in B_train_columns:\n",
    "    if ((B_train[i].isnull().sum()) / len(B_train[i]) <= 0.63):\n",
    "        B_null_count_less.append([i,(B_train[i].isnull().sum()) / len(B_train[i])])\n",
    "    else:\n",
    "        B_null_count_large.append([i,(B_train[i].isnull().sum()) / len(B_train[i])])\n",
    "\n",
    "# len(B_null_count_less) 327\n",
    "# len(B_null_count_large) 164\n",
    "\n",
    "# 针对 B_test\n",
    "B_test_columns = B_test.columns\n",
    "B_test_count_less = []\n",
    "B_test_count_large = []\n",
    "\n",
    "for i in B_test_columns:\n",
    "    if ((B_test[i].isnull().sum()) / len(B_test[i]) <= 0.63):\n",
    "        B_test_count_less.append([i,(B_test[i].isnull().sum()) / len(B_test[i])])\n",
    "    else:\n",
    "        B_test_count_large.append([i,(B_test[i].isnull().sum()) / len(B_test[i])])\n",
    "\n",
    "# len(B_test_count_large) 164\n",
    "# len(B_test_count_less) 326\n",
    "\n"
   ]
  },
  {
   "cell_type": "code",
   "execution_count": 6,
   "metadata": {
    "collapsed": true
   },
   "outputs": [],
   "source": [
    "# 提取百分比大于47的数据\n",
    "\n",
    "A_feature = pd.DataFrame(B_null_count_less).values[:,0]\n",
    "B_feature = pd.DataFrame(B_null_count_less).values[:,0]\n",
    "BT_feature = pd.DataFrame(B_test_count_less).values[:,0]\n",
    "\n",
    "a_data = A_train[A_feature]\n",
    "b_data = B_train[B_feature]\n",
    "bt_data = B_train[BT_feature]\n",
    "\n",
    "a_columns = a_data.columns\n",
    "a_columns = a_columns.sort_values()\n",
    "\n",
    "b_columns = b_data.columns   ## B_train columns，多了一个flag\n",
    "b_columns = b_columns.sort_values()\n",
    "\n",
    "bt_columns = bt_data.columns   ## B_test columns\n",
    "bt_columns = bt_columns.sort_values()\n",
    "\n",
    "a_data = A_train[a_columns]\n",
    "b_data = B_train[b_columns]\n",
    "bt_data = B_test[bt_columns]"
   ]
  },
  {
   "cell_type": "markdown",
   "metadata": {
    "collapsed": true
   },
   "source": [
    "## XGB模型-B数据集-0.583"
   ]
  },
  {
   "cell_type": "code",
   "execution_count": 7,
   "metadata": {
    "collapsed": false
   },
   "outputs": [
    {
     "name": "stderr",
     "output_type": "stream",
     "text": [
      "D:\\D(Program)\\AI\\Anaconda3-4.3.1\\lib\\site-packages\\sklearn\\cross_validation.py:44: DeprecationWarning: This module was deprecated in version 0.18 in favor of the model_selection module into which all the refactored classes and functions are moved. Also note that the interface of the new CV iterators are different from that of this module. This module will be removed in 0.20.\n",
      "  \"This module will be removed in 0.20.\", DeprecationWarning)\n"
     ]
    },
    {
     "data": {
      "text/plain": [
       "0.5393193193193193"
      ]
     },
     "execution_count": 7,
     "metadata": {},
     "output_type": "execute_result"
    }
   ],
   "source": [
    "target_bb = b_data['flag']\n",
    "b_data.drop('flag',axis=1,inplace=True)\n",
    "\n",
    "bb_data = b_data.fillna(0)\n",
    "bbt_data = bt_data.fillna(0)\n",
    "\n",
    "\n",
    "# GBDT进行特征筛选\n",
    "\n",
    "from sklearn.ensemble import GradientBoostingClassifier\n",
    "from sklearn import cross_validation\n",
    "X_train, X_test,y_train,y_test = cross_validation.train_test_split(bb_data, target_bb, test_size=0.3, random_state=0)\n",
    "clf = GradientBoostingClassifier(n_estimators=100, learning_rate=1, max_depth=1, random_state=0)\n",
    "clf.fit(X_train, y_train)\n",
    "clf.score(X_test, y_test)\n",
    "y_pred = clf.predict(X_test) # 返回预测标签\n",
    "y_pro = clf.predict_proba(X_test) # 返回测试集中每个测试样例，分类为每个类的概率\n",
    "y_prd = pd.DataFrame(y_pro).iloc[:,1]\n",
    "roc_auc_score(y_test,y_prd)"
   ]
  },
  {
   "cell_type": "code",
   "execution_count": 12,
   "metadata": {
    "collapsed": true
   },
   "outputs": [],
   "source": [
    "# GBDT 重要特征\n",
    "\n",
    "clf.fit(bb_data,target_bb)\n",
    "clf_importance = clf.feature_importances_\n",
    "clf_importance_ = pd.DataFrame(clf_importance)\n",
    "clf_importance_.columns = {'importance'}\n",
    "bb_columns = pd.DataFrame(bb_data.columns)\n",
    "bb_columns.columns={'feature'}\n",
    "\n",
    "#影响度排序\n",
    "clf_feature_values = pd.concat([bb_columns,clf_importance_],axis=1)\n",
    "clf_feature_values = clf_feature_values.sort_values(by='importance')\n",
    "\n",
    "#影响度非0的特征\n",
    "clf_feature_well = clf_feature_values[clf_feature_values['importance']!=0]\n",
    "clf_feature_well_columns = clf_feature_well['feature'].values\n",
    "clf_feature_well.index = clf_feature_well_columns\n",
    "columns_GBDT = clf_feature_well.index"
   ]
  },
  {
   "cell_type": "code",
   "execution_count": 13,
   "metadata": {
    "collapsed": false
   },
   "outputs": [
    {
     "data": {
      "text/plain": [
       "(50,)"
      ]
     },
     "execution_count": 13,
     "metadata": {},
     "output_type": "execute_result"
    }
   ],
   "source": [
    "columns_GBDT.shape"
   ]
  },
  {
   "cell_type": "code",
   "execution_count": 14,
   "metadata": {
    "collapsed": true
   },
   "outputs": [],
   "source": [
    "# 测试集提取这些特征，形成新的测试集\n",
    "\n",
    "C_feature = B_train[columns_GBDT]\n",
    "new_test = B_test[columns_GBDT]\n",
    "C_flag = pd.DataFrame(B_train['flag'])\n",
    "C_train = pd.concat([C_feature,C_flag],axis=1)\n",
    "\n",
    "CC = C_feature.fillna(0)\n",
    "new_test_  = new_test.fillna(0)\n",
    "\n",
    "X_train, X_test, y_train, y_test = cross_validation.train_test_split(CC, C_flag, test_size=0.3, random_state=0)\n"
   ]
  },
  {
   "cell_type": "code",
   "execution_count": 15,
   "metadata": {
    "collapsed": false
   },
   "outputs": [
    {
     "data": {
      "text/plain": [
       "0.6038438438438439"
      ]
     },
     "execution_count": 15,
     "metadata": {},
     "output_type": "execute_result"
    }
   ],
   "source": [
    "# XGB模型训练\n",
    "\n",
    "import xgboost as xgb\n",
    "\n",
    "xg_train = xgb.DMatrix(X_train,label=y_train)\n",
    "xg_test = xgb.DMatrix(X_test,label=y_test)\n",
    "\n",
    "\n",
    "param = {'booster':'gbtree',\n",
    "         'max_depth':10, \n",
    "         'eta':0.1, \n",
    "         'silent':1, \n",
    "         'objective':'binary:logistic',\n",
    "         'eval_metric':'auc',\n",
    "         'subsample': 1,\n",
    "         \"colsample_bytree\": 0.7,\n",
    "         \"min_child_weight\":2,\n",
    "              'gamma':3.1,\n",
    "              'lambda':1,\n",
    "        \"thread\":-1,}\n",
    "num_boost_round = 1500\n",
    "watchlist = [(xg_train, 'train'), (xg_test, 'eval')]\n",
    "num_round=15\n",
    "bst = xgb.train(param, xg_train, num_round)\n",
    "preds = bst.predict(xg_test)\n",
    "roc_auc_score(y_test,preds)"
   ]
  },
  {
   "cell_type": "code",
   "execution_count": 16,
   "metadata": {
    "collapsed": true
   },
   "outputs": [],
   "source": [
    "xg_train = xgb.DMatrix(CC,label=C_flag)\n",
    "xg_test = xgb.DMatrix(new_test_)\n",
    "bst = xgb.train(param, xg_train, num_round)\n",
    "pro = bst.predict(xg_test)\n",
    "\n",
    "xgb_model =xgb.cv(param,xg_train,num_boost_round,nfold=5, early_stopping_rounds=300)#, verbose_eval=True\n",
    "\n",
    "pd.DataFrame(xgb_model)\n",
    "pd.DataFrame(xgb_model)['test-auc-mean'].mean()\n",
    "\n",
    "no = pd.DataFrame(NO)\n",
    "\n",
    "XGB_B=[]\n",
    "XGB_B=pd.DataFrame(XGB_B)\n",
    "XGB_B['no'] = no\n",
    "XGB_B['pred'] = pro"
   ]
  },
  {
   "cell_type": "code",
   "execution_count": null,
   "metadata": {
    "collapsed": true
   },
   "outputs": [],
   "source": []
  }
 ],
 "metadata": {
  "kernelspec": {
   "display_name": "Python 3",
   "language": "python",
   "name": "python3"
  },
  "language_info": {
   "codemirror_mode": {
    "name": "ipython",
    "version": 3
   },
   "file_extension": ".py",
   "mimetype": "text/x-python",
   "name": "python",
   "nbconvert_exporter": "python",
   "pygments_lexer": "ipython3",
   "version": "3.6.0"
  }
 },
 "nbformat": 4,
 "nbformat_minor": 2
}
