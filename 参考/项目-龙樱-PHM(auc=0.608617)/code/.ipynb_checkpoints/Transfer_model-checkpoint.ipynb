{
 "cells": [
  {
   "cell_type": "code",
   "execution_count": null,
   "metadata": {
    "collapsed": false
   },
   "outputs": [],
   "source": [
    "import pandas as pd\n",
    "import numpy as np\n",
    "from sklearn.ensemble import GradientBoostingClassifier\n",
    "from sklearn.metrics import auc,roc_auc_score\n",
    "import xgboost as xgb\n",
    "from sklearn.cross_validation import train_test_split "
   ]
  },
  {
   "cell_type": "code",
   "execution_count": null,
   "metadata": {
    "collapsed": true
   },
   "outputs": [],
   "source": [
    "'''\n",
    "此处的特征工程和之前的一样，加了一个非空元素的统计，其他一样\n",
    "'''"
   ]
  },
  {
   "cell_type": "code",
   "execution_count": null,
   "metadata": {
    "collapsed": false
   },
   "outputs": [],
   "source": [
    "a_train = pd.read_csv('A_train.csv')\n",
    "b_train = pd.read_csv('B_train.csv')\n",
    "b_test =  pd.read_csv('B_test.csv')"
   ]
  },
  {
   "cell_type": "code",
   "execution_count": null,
   "metadata": {
    "collapsed": true
   },
   "outputs": [],
   "source": [
    "a_labels = a_train['flag']\n",
    "b_labels = b_train['flag']\n",
    "\n",
    "a_train.drop('no',axis=1,inplace=True) \n",
    "b_train.drop('no',axis=1,inplace=True) \n",
    "a_train.drop('flag',axis=1,inplace=True) \n",
    "b_train.drop('flag',axis=1,inplace=True) \n",
    "\n",
    "submit = pd.DataFrame(b_test['no'])\n",
    "b_test.drop('no',axis=1,inplace=True) "
   ]
  },
  {
   "cell_type": "code",
   "execution_count": null,
   "metadata": {
    "collapsed": false
   },
   "outputs": [],
   "source": [
    "a_train['num_NAN'] = a_train.isnull().sum(axis=1)\n",
    "b_train['num_NAN'] = b_train.isnull().sum(axis=1) \n",
    "b_test['num_NAN'] = b_train.isnull().sum(axis=1) "
   ]
  },
  {
   "cell_type": "code",
   "execution_count": null,
   "metadata": {
    "collapsed": true
   },
   "outputs": [],
   "source": [
    "a_train = a_train.fillna(-999)\n",
    "b_train = b_train.fillna(-999)\n",
    "b_test = b_test.fillna(-999)"
   ]
  },
  {
   "cell_type": "code",
   "execution_count": null,
   "metadata": {
    "collapsed": false
   },
   "outputs": [],
   "source": [
    "def dumyuserfeature(train):\n",
    "    pre_feat = 'UserInfo_'\n",
    "    # 检查离散变量和连续变量\n",
    "    asd = 0\n",
    "    index=[]\n",
    "    train_copy = train.copy()\n",
    "    for i ,col in enumerate(train.columns):\n",
    "        print(i)\n",
    "        cofe = len(train.groupby(col).count())\n",
    "        if cofe < 20:\n",
    "            feikong = np.sum([train[col] != -999] )\n",
    "            if feikong < len(train) * 0.1:\n",
    "                continue \n",
    "            train_copy = train_copy.join(pd.get_dummies(train[col], prefix=col+'_'))\n",
    "            index.append(col)\n",
    "            asd += 1\n",
    "    print(asd,'个离散化的特征')\n",
    "    return train_copy"
   ]
  },
  {
   "cell_type": "code",
   "execution_count": null,
   "metadata": {
    "collapsed": false,
    "scrolled": true
   },
   "outputs": [],
   "source": [
    "a_train_dummy = dumyuserfeature(a_train)\n",
    "b_train_dummy = dumyuserfeature(b_train)\n",
    "b_test_dummy = dumyuserfeature(b_test)"
   ]
  },
  {
   "cell_type": "code",
   "execution_count": null,
   "metadata": {
    "collapsed": false
   },
   "outputs": [],
   "source": [
    "col = [x for x in b_train_dummy.columns if x in b_test_dummy.columns]  \n",
    "col = [x for x in col if x in a_train_dummy.columns] \n",
    "col = [x for x in col if x not in ['no','flag']]  "
   ]
  },
  {
   "cell_type": "code",
   "execution_count": null,
   "metadata": {
    "collapsed": false,
    "scrolled": true
   },
   "outputs": [],
   "source": [
    "a_train_dummy_final = a_train_dummy[col]\n",
    "b_train_dummy_final = b_train_dummy[col]\n",
    "b_test_dummy_final = b_test_dummy[col]"
   ]
  },
  {
   "cell_type": "code",
   "execution_count": null,
   "metadata": {
    "collapsed": true
   },
   "outputs": [],
   "source": [
    "# a_train_dummy_final = pd.read_csv('a_train_dummy_final.csv')\n",
    "# b_train_dummy_final = pd.read_csv('b_train_dummy_final.csv')\n",
    "# b_test_dummy_final = pd.read_csv('b_test_dummy_final.csv')\n",
    "# b_train_dummy_final.drop('Unnamed: 0',axis=1,inplace=True)\n",
    "# b_test_dummy_final.drop('Unnamed: 0',axis=1,inplace=True)\n",
    "# a_train_dummy_final.drop('Unnamed: 0',axis=1,inplace=True)"
   ]
  },
  {
   "cell_type": "code",
   "execution_count": null,
   "metadata": {
    "collapsed": false
   },
   "outputs": [],
   "source": [
    "watchlist=[(xgb.DMatrix(a_train_dummy_final,label=a_labels),'train'),(xgb.DMatrix(b_train_dummy_final,label=b_labels),'eval')]"
   ]
  },
  {
   "cell_type": "code",
   "execution_count": null,
   "metadata": {
    "collapsed": false,
    "scrolled": true
   },
   "outputs": [],
   "source": [
    "# 训练获得迁移使用的源模型\n",
    "Trate=0.15 \n",
    "params = {'booster':'gbtree',\n",
    "              'eta': 0.5, \n",
    "              'max_depth': 5,                  \n",
    "              'max_delta_step': 0,\n",
    "              'subsample':0.8,              \n",
    "              'colsample_bytree': 0.8,      \n",
    "              'base_score': Trate, \n",
    "              'objective': 'binary:logistic', \n",
    "              'lambda':3,\n",
    "              'alpha':8\n",
    "              }\n",
    "params['eval_metric'] = 'auc'  \n",
    "\n",
    "# model_1 = xgb.train(params,xgb.DMatrix(b_train_dummy[col],b_train['flag']),num_boost_round=150,maximize=True,verbose_eval=True)\n",
    "model_phase_1 = xgb.train(params,xgb.DMatrix(a_train_dummy_final,label=a_labels),num_boost_round=1000,evals=watchlist,early_stopping_rounds=100,maximize=True,verbose_eval=True)"
   ]
  },
  {
   "cell_type": "code",
   "execution_count": null,
   "metadata": {
    "collapsed": false
   },
   "outputs": [],
   "source": [
    "# # 存储模型\n",
    "# import pickle\n",
    "# from sklearn.externals import joblib\n",
    "# joblib.dump(model_phase_1, 'model_transfer.pkl')\n",
    "# model_phase_1 = joblib.load('model_transfer.pkl')  "
   ]
  },
  {
   "cell_type": "code",
   "execution_count": null,
   "metadata": {
    "collapsed": false
   },
   "outputs": [],
   "source": [
    "# train_X,test_X,train_Y,test_Y = train_test_split(b_train_dummy_final,b_labels,test_size=0.2,random_state  = 2) \n",
    "# watchlist=[(xgb.DMatrix(train_X,label=train_Y),'train'),(xgb.DMatrix(test_X,label=test_Y),'eval')] "
   ]
  },
  {
   "cell_type": "code",
   "execution_count": null,
   "metadata": {
    "collapsed": false
   },
   "outputs": [],
   "source": [
    "# 在源数据上进行微调，这边没有时间就没有细调，线上的结果是单模型随机试了一个（迭代20次）的结果\n",
    "Trate=0.2 \n",
    "params = {'booster':'gbtree',\n",
    "              'eta': 0.05, \n",
    "              'max_depth': 4,                  \n",
    "              'max_delta_step': 0,\n",
    "              'subsample':1,              \n",
    "              'colsample_bytree': 0.9,      \n",
    "              'base_score': Trate, \n",
    "              'objective': 'binary:logistic', \n",
    "              'lambda':3,\n",
    "              'alpha':5\n",
    "              }\n",
    "params['eval_metric'] = 'auc' \n",
    "model_phase_1_cla_1 = xgb.train(params,xgb.DMatrix(b_train_dummy_final,b_labels),num_boost_round=25,xgb_model =model_phase_1,maximize=True,verbose_eval=True)\n",
    "\n",
    "\n",
    "Trate=0.2 \n",
    "params = {'booster':'gbtree',\n",
    "              'eta': 0.05, \n",
    "              'max_depth': 5,                  \n",
    "              'max_delta_step': 0,\n",
    "              'subsample':0.85,              \n",
    "              'colsample_bytree': 0.9,      \n",
    "              'base_score': Trate, \n",
    "              'objective': 'binary:logistic', \n",
    "              'lambda':3,\n",
    "              'alpha':5\n",
    "              }\n",
    "params['eval_metric'] = 'auc' \n",
    "model_phase_1_cla_2 = xgb.train(params,xgb.DMatrix(b_train_dummy_final,b_labels),num_boost_round=40,xgb_model =model_phase_1,maximize=True,verbose_eval=True)\n",
    "\n",
    "\n",
    "Trate=0.2 \n",
    "params = {'booster':'gbtree',\n",
    "              'eta': 0.05, \n",
    "              'max_depth': 4,                  \n",
    "              'max_delta_step': 0,\n",
    "              'subsample':1,              \n",
    "              'colsample_bytree': 0.9,      \n",
    "              'base_score': Trate, \n",
    "              'objective': 'binary:logistic', \n",
    "              'lambda':3,\n",
    "              'alpha':5\n",
    "              }\n",
    "params['eval_metric'] = 'auc' \n",
    "model_phase_1_cla_3 = xgb.train(params,xgb.DMatrix(b_train_dummy_final,b_labels),num_boost_round=28,xgb_model =model_phase_1,maximize=True,verbose_eval=True)\n",
    "\n",
    "Trate=0.25 \n",
    "params = {'booster':'gbtree',\n",
    "              'eta': 0.05, \n",
    "              'max_depth': 5,                  \n",
    "              'max_delta_step': 0,\n",
    "              'subsample':1,              \n",
    "              'colsample_bytree': 0.9,      \n",
    "              'base_score': Trate, \n",
    "              'objective': 'binary:logistic', \n",
    "              'lambda':3,\n",
    "              'alpha':6\n",
    "              }\n",
    "params['eval_metric'] = 'auc' \n",
    "model_phase_1_cla_4 = xgb.train(params,xgb.DMatrix(b_train_dummy_final,b_labels),num_boost_round=30,xgb_model =model_phase_1,maximize=True,verbose_eval=True)"
   ]
  },
  {
   "cell_type": "code",
   "execution_count": null,
   "metadata": {
    "collapsed": false
   },
   "outputs": [],
   "source": [
    "# ensemble取均值，这边随机选了四个\n",
    "pred = model_phase_1_cla_1.predict(xgb.DMatrix(b_test_dummy_final))\n",
    "pred1 = model_phase_1_cla_2.predict(xgb.DMatrix(b_test_dummy_final))\n",
    "pred2 = model_phase_1_cla_3.predict(xgb.DMatrix(b_test_dummy_final))\n",
    "pred3 = model_phase_1_cla_4.predict(xgb.DMatrix(b_test_dummy_final))\n",
    "submit['pred'] =(pred+pred1+pred2+pred3)/4 "
   ]
  },
  {
   "cell_type": "code",
   "execution_count": null,
   "metadata": {
    "collapsed": false
   },
   "outputs": [],
   "source": [
    "submit.to_csv('transfer_submit.csv',index=False)"
   ]
  },
  {
   "cell_type": "code",
   "execution_count": null,
   "metadata": {
    "collapsed": true
   },
   "outputs": [],
   "source": []
  }
 ],
 "metadata": {
  "kernelspec": {
   "display_name": "Python 3",
   "language": "python",
   "name": "python3"
  },
  "language_info": {
   "codemirror_mode": {
    "name": "ipython",
    "version": 3
   },
   "file_extension": ".py",
   "mimetype": "text/x-python",
   "name": "python",
   "nbconvert_exporter": "python",
   "pygments_lexer": "ipython3",
   "version": "3.5.1"
  }
 },
 "nbformat": 4,
 "nbformat_minor": 0
}
