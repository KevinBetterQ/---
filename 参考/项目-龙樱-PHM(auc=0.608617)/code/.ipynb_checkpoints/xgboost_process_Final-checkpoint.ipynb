{
 "cells": [
  {
   "cell_type": "code",
   "execution_count": 1,
   "metadata": {
    "collapsed": false
   },
   "outputs": [
    {
     "name": "stderr",
     "output_type": "stream",
     "text": [
      "D:\\Anaconda3\\lib\\site-packages\\sklearn\\cross_validation.py:44: DeprecationWarning: This module was deprecated in version 0.18 in favor of the model_selection module into which all the refactored classes and functions are moved. Also note that the interface of the new CV iterators are different from that of this module. This module will be removed in 0.20.\n",
      "  \"This module will be removed in 0.20.\", DeprecationWarning)\n"
     ]
    }
   ],
   "source": [
    "import pandas as pd\n",
    "import numpy as np\n",
    "import scipy\n",
    "\n",
    "from sklearn.cross_validation import train_test_split\n",
    "from sklearn.linear_model import LogisticRegression\n",
    "from sklearn.metrics import classification_report\n",
    "import xgboost as xgb "
   ]
  },
  {
   "cell_type": "code",
   "execution_count": null,
   "metadata": {
    "collapsed": false
   },
   "outputs": [],
   "source": [
    "def ksvalue(preds, dtrain): \n",
    "    label = dtrain.get_label()\n",
    "    \n",
    "    cdf_one = preds[label==1]\n",
    "    cdf_two = preds[label==0]\n",
    "    cdf_one = np.sort(cdf_one)\n",
    "    cdf_two = np.sort(cdf_two)\n",
    "    i = 0\n",
    "    j = 0\n",
    "    d = 0.0\n",
    "    fn1 = 0.0\n",
    "    fn2 = 0.0\n",
    "    l1 = float(len(cdf_one))\n",
    "    l2 = float(len(cdf_two))\n",
    "\n",
    "    while (i < len(cdf_one) and j < len(cdf_two)):\n",
    "        d1 = cdf_one[i]\n",
    "        d2 = cdf_two[j]\n",
    "        tmpd1 = cdf_one[i]\n",
    "        tmpd2 = cdf_two[j]\n",
    "\n",
    "        if d1 <= d2: #统计d1出现的次数\n",
    "            flag1 = 0\n",
    "            while tmpd1 == d1 and i < len(cdf_one):  #如果下一个和当前的相同，则向下寻找，直到出现不同的或者到尾部为止\n",
    "                i = i + 1\n",
    "                flag1 = 1\n",
    "                if i == len(cdf_one):\n",
    "                    break\n",
    "                tmpd1 = cdf_one[i]\n",
    "\n",
    "            if flag1 == 1:\n",
    "                fn1 = i / l1\n",
    "        if d2 <= d1:\n",
    "            flag2 = 0\n",
    "            while tmpd2 == d2 and j < len(cdf_two):\n",
    "                j = j + 1\n",
    "                flag2 =1\n",
    "                if j == len(cdf_two):\n",
    "                    break\n",
    "                tmpd2 = cdf_two[j]\n",
    "\n",
    "            if flag2 == 1:\n",
    "                fn2 = j / l2\n",
    "\n",
    "#         dist = abs(fn2 - fn1)\n",
    "        dist = fn2 - fn1\n",
    "        if dist > d:\n",
    "            d = dist\n",
    "#     print ('ks=%.6f' %(d))\n",
    "    return 'ks',d"
   ]
  },
  {
   "cell_type": "code",
   "execution_count": 8,
   "metadata": {
    "collapsed": false
   },
   "outputs": [],
   "source": [
    "# train_fea = pd.read_csv('F:/研究生课程/比赛/信贷/数据/data/train_xgb_select.csv')\n",
    "test_fea = pd.read_csv('F:/研究生课程/比赛/信贷/数据/data/test_xgb_select.csv')\n",
    "# train_fea = pd.read_csv('F:/研究生课程/比赛/信贷/数据/前海征信数据 4-14/fea/train.csv')\n",
    "train_label = train_fea['label']"
   ]
  },
  {
   "cell_type": "code",
   "execution_count": 9,
   "metadata": {
    "collapsed": false
   },
   "outputs": [],
   "source": [
    "train_fea = pd.read_csv('F:/研究生课程/比赛/信贷/数据/data/train_xgb_select.csv')"
   ]
  },
  {
   "cell_type": "code",
   "execution_count": 13,
   "metadata": {
    "collapsed": false
   },
   "outputs": [],
   "source": [
    "# train_label.shape"
   ]
  },
  {
   "cell_type": "code",
   "execution_count": 14,
   "metadata": {
    "collapsed": false
   },
   "outputs": [],
   "source": [
    "train_fea.set_index('no',inplace=True)\n",
    "test_fea.set_index('no',inplace=True)"
   ]
  },
  {
   "cell_type": "code",
   "execution_count": 15,
   "metadata": {
    "collapsed": false
   },
   "outputs": [],
   "source": [
    "test_fea.rename(columns={'flag':'flag_y'},inplace=True)"
   ]
  },
  {
   "cell_type": "code",
   "execution_count": 16,
   "metadata": {
    "collapsed": false
   },
   "outputs": [],
   "source": [
    "dtrain=xgb.DMatrix(train_fea,label=train_label.values,missing=np.NAN) \n",
    "dtest=xgb.DMatrix(test_fea,missing=np.NAN) "
   ]
  },
  {
   "cell_type": "code",
   "execution_count": null,
   "metadata": {
    "collapsed": false
   },
   "outputs": [],
   "source": [
    "submit = pd.DataFrame(test_fea.index)\n",
    "submit['pred'] = res\n",
    "submit.set_index('no',inplace=True)\n",
    "# submit.to_csv('F:/研究生课程/比赛/信贷/数据/data/res_4_26.csv')"
   ]
  },
  {
   "cell_type": "code",
   "execution_count": null,
   "metadata": {
    "collapsed": false
   },
   "outputs": [],
   "source": []
  },
  {
   "cell_type": "code",
   "execution_count": null,
   "metadata": {
    "collapsed": true
   },
   "outputs": [],
   "source": [
    "# ensemble部分\n",
    "submit = pd.DataFrame(test_fea.index)"
   ]
  },
  {
   "cell_type": "code",
   "execution_count": null,
   "metadata": {
    "collapsed": false,
    "scrolled": true
   },
   "outputs": [],
   "source": [
    " # ensemble\n",
    "Trate=0.25\n",
    "max_depths = [4,5,6]\n",
    "colsample_bytrees = [0.85,0.9,1]\n",
    "alphas = [5,8,10]\n",
    "cnt = 0\n",
    "for max_depth in max_depths:\n",
    "    for colsample_bytree in colsample_bytrees:\n",
    "        for alpha in alphas:\n",
    "            params = {'booster':'gbtree',\n",
    "                          'eta': 0.1, \n",
    "                          'max_depth': max_depth,                  \n",
    "                          'max_delta_step': 0,\n",
    "                          'subsample':1,              \n",
    "                          'colsample_bytree': colsample_bytree,      \n",
    "                          'base_score': Trate, \n",
    "                          'objective': 'binary:logistic', \n",
    "                          'lambda':3,\n",
    "                          'alpha':alpha\n",
    "                          }\n",
    "            params['eval_metric'] = 'auc'\n",
    "            cnt += 1\n",
    "            print(cnt)\n",
    "            model_test = xgb.train(params,dtrain,num_boost_round=150,maximize=True,verbose_eval=True)\n",
    "            submit['res'+str(cnt)] = model_test.predict(dtest)\n"
   ]
  },
  {
   "cell_type": "code",
   "execution_count": null,
   "metadata": {
    "collapsed": false
   },
   "outputs": [],
   "source": [
    "# submit1 =submit.copy()\n",
    "final_submit = pd.DataFrame(test_fea.index)\n",
    "# submit"
   ]
  },
  {
   "cell_type": "code",
   "execution_count": null,
   "metadata": {
    "collapsed": true
   },
   "outputs": [],
   "source": [
    "final_submit['pred'] = 0\n",
    "for i in range(27):\n",
    "    final_submit['pred'] =  final_submit['pred'] + submit['res'+str(i+1)]"
   ]
  },
  {
   "cell_type": "code",
   "execution_count": null,
   "metadata": {
    "collapsed": false
   },
   "outputs": [],
   "source": [
    "final_submit['pred'] = final_submit['pred'] /27"
   ]
  },
  {
   "cell_type": "code",
   "execution_count": null,
   "metadata": {
    "collapsed": false
   },
   "outputs": [],
   "source": [
    "final_submit.set_index('no',inplace=True)\n",
    "final_submit.to_csv('F:/研究生课程/比赛/信贷/数据/前海征信数据 4-14/res_en_4_26.csv')"
   ]
  },
  {
   "cell_type": "code",
   "execution_count": null,
   "metadata": {
    "collapsed": false
   },
   "outputs": [],
   "source": []
  },
  {
   "cell_type": "code",
   "execution_count": null,
   "metadata": {
    "collapsed": false
   },
   "outputs": [],
   "source": [
    " "
   ]
  },
  {
   "cell_type": "code",
   "execution_count": null,
   "metadata": {
    "collapsed": true
   },
   "outputs": [],
   "source": []
  }
 ],
 "metadata": {
  "kernelspec": {
   "display_name": "Python 3",
   "language": "python",
   "name": "python3"
  },
  "language_info": {
   "codemirror_mode": {
    "name": "ipython",
    "version": 3
   },
   "file_extension": ".py",
   "mimetype": "text/x-python",
   "name": "python",
   "nbconvert_exporter": "python",
   "pygments_lexer": "ipython3",
   "version": "3.5.1"
  }
 },
 "nbformat": 4,
 "nbformat_minor": 0
}
