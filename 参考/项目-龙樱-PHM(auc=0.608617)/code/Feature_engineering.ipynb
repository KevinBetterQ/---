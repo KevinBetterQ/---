{
 "cells": [
  {
   "cell_type": "code",
   "execution_count": null,
   "metadata": {
    "collapsed": true
   },
   "outputs": [],
   "source": [
    "import pandas as pd\n",
    "import numpy as np\n",
    "from sklearn.ensemble import GradientBoostingClassifier\n",
    "from sklearn.model_selection import train_test_split,StratifiedKFold\n",
    "from sklearn.metrics import auc,roc_auc_score\n",
    "import xgboost as xgb  "
   ]
  },
  {
   "cell_type": "code",
   "execution_count": null,
   "metadata": {
    "collapsed": true
   },
   "outputs": [],
   "source": [
    "# 把特征个数少的列全部丢弃,使用和不适用效果影响不大，建议使用，省时间内存\n",
    "def null_ratio(df):\n",
    "    features=df.columns\n",
    "    feature_selected=[]\n",
    "    drop_index=[]\n",
    "    sz=df.size\n",
    "    for feat in features:\n",
    "        sz_null=df[df[feat].isnull()].size\n",
    "        ratio=float(sz_null)/sz\n",
    "        if ratio > 0.9:\n",
    "            feature_selected.append((feat,ratio))\n",
    "            drop_index.append(feat) \n",
    "    return feature_selected,drop_index"
   ]
  },
  {
   "cell_type": "code",
   "execution_count": null,
   "metadata": {
    "collapsed": true
   },
   "outputs": [],
   "source": [
    "def dumyuserfeature(train):\n",
    "    pre_feat = 'UserInfo_'\n",
    "    # 检查离散变量和连续变量\n",
    "    asd = 0\n",
    "    index=[]\n",
    "    train_copy = train.copy()\n",
    "    for i ,col in enumerate(train.columns):\n",
    "        print(i)\n",
    "        cofe = len(train.groupby(col).count())\n",
    "        if cofe < 20: #10,15都一样\n",
    "            feikong = np.sum([train[col] != -999] )\n",
    "            if feikong < len(train) * 0.1:\n",
    "                continue\n",
    "                 \n",
    "            train_copy = train_copy.join(pd.get_dummies(train[col], prefix=col+'_'))\n",
    "            index.append(col)\n",
    "            asd += 1 \n",
    "    return train_copy"
   ]
  },
  {
   "cell_type": "code",
   "execution_count": null,
   "metadata": {
    "collapsed": true
   },
   "outputs": [],
   "source": [
    "a_train = pd.read_csv('A_train.csv')\n",
    "b_train = pd.read_csv('B_train.csv')\n",
    "b_test =  pd.read_csv('B_test.csv')"
   ]
  },
  {
   "cell_type": "code",
   "execution_count": null,
   "metadata": {
    "collapsed": true
   },
   "outputs": [],
   "source": [
    "b_train = b_train.fillna(-999)\n",
    "b_test = b_test.fillna(-999)\n",
    "flags = b_train['flag']"
   ]
  },
  {
   "cell_type": "code",
   "execution_count": null,
   "metadata": {
    "collapsed": true
   },
   "outputs": [],
   "source": [
    "b_train = dumyuserfeature(b_train)\n",
    "b_test = dumyuserfeature(b_test)"
   ]
  },
  {
   "cell_type": "code",
   "execution_count": null,
   "metadata": {
    "collapsed": true
   },
   "outputs": [],
   "source": [
    "b_train.to_csv('B_train_dummy.csv',index=False)\n",
    "b_test.to_csv('B_test_dummy.csv',index=False)"
   ]
  }
 ],
 "metadata": {
  "kernelspec": {
   "display_name": "Python 3",
   "language": "python",
   "name": "python3"
  },
  "language_info": {
   "codemirror_mode": {
    "name": "ipython",
    "version": 3
   },
   "file_extension": ".py",
   "mimetype": "text/x-python",
   "name": "python",
   "nbconvert_exporter": "python",
   "pygments_lexer": "ipython3",
   "version": "3.6.0"
  }
 },
 "nbformat": 4,
 "nbformat_minor": 0
}
