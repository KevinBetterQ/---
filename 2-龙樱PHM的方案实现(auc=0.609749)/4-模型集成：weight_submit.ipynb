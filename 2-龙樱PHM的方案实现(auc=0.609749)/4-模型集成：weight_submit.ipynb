{
 "cells": [
  {
   "cell_type": "markdown",
   "metadata": {},
   "source": [
    "模型集成：\n",
    "利用模型A和模型C分别对测试集进行预测获得预测结果f(A)和f(C),然后对f(A)\n",
    " 以及f(C)加权(f(A)附上较大权重，f(C)附上较小权重)获得我们最终的结果"
   ]
  },
  {
   "cell_type": "code",
   "execution_count": 1,
   "metadata": {
    "collapsed": true
   },
   "outputs": [],
   "source": [
    "import matplotlib.pyplot as plt\n",
    "import pandas as pd\n",
    "import numpy as np\n",
    "a1 = pd.read_csv('subimit_target.csv')\n",
    "a2 = pd.read_csv('transfer_submit.csv')\n",
    "a1['pred'] = a1['pred'] * 0.85+ a2['pred'] * 0.15\n",
    "a1.to_csv('submit_online.csv',index=False)"
   ]
  },
  {
   "cell_type": "code",
   "execution_count": null,
   "metadata": {
    "collapsed": true
   },
   "outputs": [],
   "source": [
    "# 线上auc：0.609749"
   ]
  }
 ],
 "metadata": {
  "kernelspec": {
   "display_name": "Python 3",
   "language": "python",
   "name": "python3"
  },
  "language_info": {
   "codemirror_mode": {
    "name": "ipython",
    "version": 3
   },
   "file_extension": ".py",
   "mimetype": "text/x-python",
   "name": "python",
   "nbconvert_exporter": "python",
   "pygments_lexer": "ipython3",
   "version": "3.6.0"
  }
 },
 "nbformat": 4,
 "nbformat_minor": 2
}
