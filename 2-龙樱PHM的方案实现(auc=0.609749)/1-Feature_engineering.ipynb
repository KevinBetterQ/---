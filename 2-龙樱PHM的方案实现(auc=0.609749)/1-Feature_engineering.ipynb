{
 "cells": [
  {
   "cell_type": "markdown",
   "metadata": {},
   "source": [
    "特征工程\n",
    "    首先，针对特征进行处理，保存起来"
   ]
  },
  {
   "cell_type": "code",
   "execution_count": 1,
   "metadata": {
    "collapsed": true
   },
   "outputs": [],
   "source": [
    "# 导入包\n",
    "import pandas as pd\n",
    "import numpy as np\n",
    "from sklearn.ensemble import GradientBoostingClassifier\n",
    "from sklearn.model_selection import train_test_split,StratifiedKFold\n",
    "from sklearn.metrics import auc,roc_auc_score\n",
    "import xgboost as xgb  "
   ]
  },
  {
   "cell_type": "code",
   "execution_count": 2,
   "metadata": {
    "collapsed": false
   },
   "outputs": [],
   "source": [
    "a_train = pd.read_csv('A_train.csv')\n",
    "b_train = pd.read_csv('B_train.csv')\n",
    "b_test = pd.read_csv('B_test.csv')"
   ]
  },
  {
   "cell_type": "code",
   "execution_count": 3,
   "metadata": {
    "collapsed": false
   },
   "outputs": [
    {
     "name": "stdout",
     "output_type": "stream",
     "text": [
      "<class 'pandas.core.frame.DataFrame'>\n",
      "RangeIndex: 4000 entries, 0 to 3999\n",
      "Columns: 491 entries, no to UserInfo_270\n",
      "dtypes: float64(488), int64(3)\n",
      "memory usage: 15.0 MB\n"
     ]
    }
   ],
   "source": [
    "b_train.info()"
   ]
  },
  {
   "cell_type": "code",
   "execution_count": 9,
   "metadata": {
    "collapsed": true
   },
   "outputs": [],
   "source": [
    "# 把特征个数少的列全部丢弃,使用和不适用效果影响不大，建议使用，省时间内存\n",
    "def null_ratio(df):\n",
    "    features=df.columns\n",
    "    feature_selected=[]\n",
    "    drop_index=[]\n",
    "    sz=df.size\n",
    "    for feat in features:\n",
    "        sz_null=df[df[feat].isnull()].size\n",
    "        ratio=float(sz_null)/sz\n",
    "        if ratio > 0.9:\n",
    "            feature_selected.append((feat,ratio))\n",
    "            drop_index.append(feat) \n",
    "    return feature_selected,drop_index\n",
    "    "
   ]
  },
  {
   "cell_type": "code",
   "execution_count": 4,
   "metadata": {
    "collapsed": false
   },
   "outputs": [],
   "source": [
    "# 检查离散变量和连续变量,  将离散的特征属性派生为多列只有0和1的属性\n",
    "\n",
    "def dumyuserfeature(train):\n",
    "    train_copy = train.copy()\n",
    "    for i ,col in enumerate(train.columns): # enumerate将其组成一个索引序列，利用它可以同时获得索引和值\n",
    "        cofe = len(train.groupby(col).count()) # 看看这一维度中有多少不相同的值\n",
    "        if cofe < 20: #10,15都一样\n",
    "            feikong = np.sum([train[col] != -999] )\n",
    "            if feikong < len(train) * 0.1:\n",
    "                continue\n",
    "            # join：将两个DataFrame中的不同的列索引合并成为一个DataFrame\n",
    "            # pd.get_dummies : 如果DataFrame的某一列中含有k个不同的值，则可以派生出一个k列矩阵或DataFrame（其值全为1和0）\n",
    "            train_copy = train_copy.join(pd.get_dummies(train[col], prefix=col+'_'))\n",
    "    return train_copy"
   ]
  },
  {
   "cell_type": "code",
   "execution_count": 5,
   "metadata": {
    "collapsed": false
   },
   "outputs": [],
   "source": [
    "b_train = b_train.fillna(-999)\n",
    "b_test = b_test.fillna(-999)\n",
    "flags = b_train['flag']"
   ]
  },
  {
   "cell_type": "code",
   "execution_count": 6,
   "metadata": {
    "collapsed": false,
    "scrolled": true
   },
   "outputs": [
    {
     "data": {
      "text/plain": [
       "4000"
      ]
     },
     "execution_count": 6,
     "metadata": {},
     "output_type": "execute_result"
    }
   ],
   "source": [
    "len(b_train)"
   ]
  },
  {
   "cell_type": "code",
   "execution_count": 13,
   "metadata": {
    "collapsed": false
   },
   "outputs": [
    {
     "name": "stdout",
     "output_type": "stream",
     "text": [
      "(4000, 491)\n",
      "(13463, 490)\n"
     ]
    }
   ],
   "source": [
    "print(b_train.shape)\n",
    "print(b_test.shape)\n",
    "# 因为b_train中包含flag，所以多一列"
   ]
  },
  {
   "cell_type": "code",
   "execution_count": 14,
   "metadata": {
    "collapsed": false
   },
   "outputs": [],
   "source": [
    "b_train_t = dumyuserfeature(b_train)\n",
    "b_test_t = dumyuserfeature(b_test)"
   ]
  },
  {
   "cell_type": "code",
   "execution_count": 15,
   "metadata": {
    "collapsed": false
   },
   "outputs": [
    {
     "name": "stdout",
     "output_type": "stream",
     "text": [
      "(4000, 1601)\n",
      "(13463, 1548)\n"
     ]
    }
   ],
   "source": [
    "print(b_train_t.shape)\n",
    "print(b_test_t.shape)"
   ]
  },
  {
   "cell_type": "code",
   "execution_count": 41,
   "metadata": {
    "collapsed": false
   },
   "outputs": [
    {
     "data": {
      "text/html": [
       "<div>\n",
       "<table border=\"1\" class=\"dataframe\">\n",
       "  <thead>\n",
       "    <tr style=\"text-align: right;\">\n",
       "      <th></th>\n",
       "      <th>no</th>\n",
       "      <th>UserInfo_1</th>\n",
       "      <th>UserInfo_2</th>\n",
       "      <th>UserInfo_3</th>\n",
       "      <th>UserInfo_4</th>\n",
       "      <th>ProductInfo_1</th>\n",
       "      <th>UserInfo_5</th>\n",
       "      <th>UserInfo_6</th>\n",
       "      <th>ProductInfo_2</th>\n",
       "      <th>UserInfo_7</th>\n",
       "      <th>...</th>\n",
       "      <th>UserInfo_265__11.0</th>\n",
       "      <th>UserInfo_265__12.0</th>\n",
       "      <th>ProductInfo_214__-999.0</th>\n",
       "      <th>ProductInfo_214__0.0</th>\n",
       "      <th>ProductInfo_214__1.0</th>\n",
       "      <th>UserInfo_266__-999.0</th>\n",
       "      <th>UserInfo_266__0.0</th>\n",
       "      <th>UserInfo_266__1.0</th>\n",
       "      <th>ProductInfo_215__-999.0</th>\n",
       "      <th>ProductInfo_215__0.0</th>\n",
       "    </tr>\n",
       "  </thead>\n",
       "  <tbody>\n",
       "    <tr>\n",
       "      <th>0</th>\n",
       "      <td>8192</td>\n",
       "      <td>-999.0</td>\n",
       "      <td>5226.59</td>\n",
       "      <td>0.0</td>\n",
       "      <td>0.0</td>\n",
       "      <td>0.0</td>\n",
       "      <td>296.0</td>\n",
       "      <td>0.0</td>\n",
       "      <td>0.0</td>\n",
       "      <td>0.0</td>\n",
       "      <td>...</td>\n",
       "      <td>0</td>\n",
       "      <td>0</td>\n",
       "      <td>0</td>\n",
       "      <td>1</td>\n",
       "      <td>0</td>\n",
       "      <td>0</td>\n",
       "      <td>1</td>\n",
       "      <td>0</td>\n",
       "      <td>0</td>\n",
       "      <td>1</td>\n",
       "    </tr>\n",
       "    <tr>\n",
       "      <th>1</th>\n",
       "      <td>1</td>\n",
       "      <td>-999.0</td>\n",
       "      <td>0.00</td>\n",
       "      <td>0.0</td>\n",
       "      <td>0.0</td>\n",
       "      <td>0.0</td>\n",
       "      <td>-999.0</td>\n",
       "      <td>0.0</td>\n",
       "      <td>0.0</td>\n",
       "      <td>46000.0</td>\n",
       "      <td>...</td>\n",
       "      <td>0</td>\n",
       "      <td>0</td>\n",
       "      <td>0</td>\n",
       "      <td>1</td>\n",
       "      <td>0</td>\n",
       "      <td>0</td>\n",
       "      <td>1</td>\n",
       "      <td>0</td>\n",
       "      <td>0</td>\n",
       "      <td>1</td>\n",
       "    </tr>\n",
       "    <tr>\n",
       "      <th>2</th>\n",
       "      <td>8195</td>\n",
       "      <td>-999.0</td>\n",
       "      <td>-999.00</td>\n",
       "      <td>-999.0</td>\n",
       "      <td>-999.0</td>\n",
       "      <td>-999.0</td>\n",
       "      <td>-999.0</td>\n",
       "      <td>-999.0</td>\n",
       "      <td>-999.0</td>\n",
       "      <td>-999.0</td>\n",
       "      <td>...</td>\n",
       "      <td>0</td>\n",
       "      <td>0</td>\n",
       "      <td>1</td>\n",
       "      <td>0</td>\n",
       "      <td>0</td>\n",
       "      <td>1</td>\n",
       "      <td>0</td>\n",
       "      <td>0</td>\n",
       "      <td>1</td>\n",
       "      <td>0</td>\n",
       "    </tr>\n",
       "    <tr>\n",
       "      <th>3</th>\n",
       "      <td>8196</td>\n",
       "      <td>-999.0</td>\n",
       "      <td>-999.00</td>\n",
       "      <td>-999.0</td>\n",
       "      <td>-999.0</td>\n",
       "      <td>-999.0</td>\n",
       "      <td>-999.0</td>\n",
       "      <td>-999.0</td>\n",
       "      <td>-999.0</td>\n",
       "      <td>-999.0</td>\n",
       "      <td>...</td>\n",
       "      <td>0</td>\n",
       "      <td>0</td>\n",
       "      <td>1</td>\n",
       "      <td>0</td>\n",
       "      <td>0</td>\n",
       "      <td>1</td>\n",
       "      <td>0</td>\n",
       "      <td>0</td>\n",
       "      <td>1</td>\n",
       "      <td>0</td>\n",
       "    </tr>\n",
       "    <tr>\n",
       "      <th>4</th>\n",
       "      <td>16387</td>\n",
       "      <td>-999.0</td>\n",
       "      <td>-999.00</td>\n",
       "      <td>-999.0</td>\n",
       "      <td>-999.0</td>\n",
       "      <td>-999.0</td>\n",
       "      <td>-999.0</td>\n",
       "      <td>-999.0</td>\n",
       "      <td>-999.0</td>\n",
       "      <td>-999.0</td>\n",
       "      <td>...</td>\n",
       "      <td>0</td>\n",
       "      <td>0</td>\n",
       "      <td>1</td>\n",
       "      <td>0</td>\n",
       "      <td>0</td>\n",
       "      <td>1</td>\n",
       "      <td>0</td>\n",
       "      <td>0</td>\n",
       "      <td>1</td>\n",
       "      <td>0</td>\n",
       "    </tr>\n",
       "  </tbody>\n",
       "</table>\n",
       "<p>5 rows × 1601 columns</p>\n",
       "</div>"
      ],
      "text/plain": [
       "      no  UserInfo_1  UserInfo_2  UserInfo_3  UserInfo_4  ProductInfo_1  \\\n",
       "0   8192      -999.0     5226.59         0.0         0.0            0.0   \n",
       "1      1      -999.0        0.00         0.0         0.0            0.0   \n",
       "2   8195      -999.0     -999.00      -999.0      -999.0         -999.0   \n",
       "3   8196      -999.0     -999.00      -999.0      -999.0         -999.0   \n",
       "4  16387      -999.0     -999.00      -999.0      -999.0         -999.0   \n",
       "\n",
       "   UserInfo_5  UserInfo_6  ProductInfo_2  UserInfo_7          ...           \\\n",
       "0       296.0         0.0            0.0         0.0          ...            \n",
       "1      -999.0         0.0            0.0     46000.0          ...            \n",
       "2      -999.0      -999.0         -999.0      -999.0          ...            \n",
       "3      -999.0      -999.0         -999.0      -999.0          ...            \n",
       "4      -999.0      -999.0         -999.0      -999.0          ...            \n",
       "\n",
       "   UserInfo_265__11.0  UserInfo_265__12.0  ProductInfo_214__-999.0  \\\n",
       "0                   0                   0                        0   \n",
       "1                   0                   0                        0   \n",
       "2                   0                   0                        1   \n",
       "3                   0                   0                        1   \n",
       "4                   0                   0                        1   \n",
       "\n",
       "   ProductInfo_214__0.0  ProductInfo_214__1.0  UserInfo_266__-999.0  \\\n",
       "0                     1                     0                     0   \n",
       "1                     1                     0                     0   \n",
       "2                     0                     0                     1   \n",
       "3                     0                     0                     1   \n",
       "4                     0                     0                     1   \n",
       "\n",
       "   UserInfo_266__0.0  UserInfo_266__1.0  ProductInfo_215__-999.0  \\\n",
       "0                  1                  0                        0   \n",
       "1                  1                  0                        0   \n",
       "2                  0                  0                        1   \n",
       "3                  0                  0                        1   \n",
       "4                  0                  0                        1   \n",
       "\n",
       "   ProductInfo_215__0.0  \n",
       "0                     1  \n",
       "1                     1  \n",
       "2                     0  \n",
       "3                     0  \n",
       "4                     0  \n",
       "\n",
       "[5 rows x 1601 columns]"
      ]
     },
     "execution_count": 41,
     "metadata": {},
     "output_type": "execute_result"
    }
   ],
   "source": [
    "b_train_t.head()"
   ]
  },
  {
   "cell_type": "code",
   "execution_count": 42,
   "metadata": {
    "collapsed": false
   },
   "outputs": [
    {
     "data": {
      "text/html": [
       "<div>\n",
       "<table border=\"1\" class=\"dataframe\">\n",
       "  <thead>\n",
       "    <tr style=\"text-align: right;\">\n",
       "      <th></th>\n",
       "      <th>no</th>\n",
       "      <th>UserInfo_1</th>\n",
       "      <th>UserInfo_2</th>\n",
       "      <th>UserInfo_3</th>\n",
       "      <th>UserInfo_4</th>\n",
       "      <th>ProductInfo_1</th>\n",
       "      <th>UserInfo_5</th>\n",
       "      <th>UserInfo_6</th>\n",
       "      <th>ProductInfo_2</th>\n",
       "      <th>UserInfo_7</th>\n",
       "      <th>...</th>\n",
       "      <th>UserInfo_264</th>\n",
       "      <th>UserInfo_265</th>\n",
       "      <th>ProductInfo_214</th>\n",
       "      <th>UserInfo_266</th>\n",
       "      <th>UserInfo_267</th>\n",
       "      <th>ProductInfo_215</th>\n",
       "      <th>ProductInfo_216</th>\n",
       "      <th>UserInfo_268</th>\n",
       "      <th>UserInfo_269</th>\n",
       "      <th>UserInfo_270</th>\n",
       "    </tr>\n",
       "  </thead>\n",
       "  <tbody>\n",
       "    <tr>\n",
       "      <th>0</th>\n",
       "      <td>8192</td>\n",
       "      <td>-999.0</td>\n",
       "      <td>5226.59</td>\n",
       "      <td>0.0</td>\n",
       "      <td>0.0</td>\n",
       "      <td>0.0</td>\n",
       "      <td>296.0</td>\n",
       "      <td>0.0</td>\n",
       "      <td>0.0</td>\n",
       "      <td>0.0</td>\n",
       "      <td>...</td>\n",
       "      <td>0.0</td>\n",
       "      <td>7.0</td>\n",
       "      <td>0.0</td>\n",
       "      <td>0.0</td>\n",
       "      <td>15.0</td>\n",
       "      <td>0.0</td>\n",
       "      <td>0.0</td>\n",
       "      <td>0.0</td>\n",
       "      <td>2940.0</td>\n",
       "      <td>-999.0</td>\n",
       "    </tr>\n",
       "    <tr>\n",
       "      <th>1</th>\n",
       "      <td>1</td>\n",
       "      <td>-999.0</td>\n",
       "      <td>0.00</td>\n",
       "      <td>0.0</td>\n",
       "      <td>0.0</td>\n",
       "      <td>0.0</td>\n",
       "      <td>-999.0</td>\n",
       "      <td>0.0</td>\n",
       "      <td>0.0</td>\n",
       "      <td>46000.0</td>\n",
       "      <td>...</td>\n",
       "      <td>0.0</td>\n",
       "      <td>3.0</td>\n",
       "      <td>0.0</td>\n",
       "      <td>0.0</td>\n",
       "      <td>-999.0</td>\n",
       "      <td>0.0</td>\n",
       "      <td>-999.0</td>\n",
       "      <td>0.0</td>\n",
       "      <td>0.0</td>\n",
       "      <td>-999.0</td>\n",
       "    </tr>\n",
       "    <tr>\n",
       "      <th>2</th>\n",
       "      <td>8195</td>\n",
       "      <td>-999.0</td>\n",
       "      <td>-999.00</td>\n",
       "      <td>-999.0</td>\n",
       "      <td>-999.0</td>\n",
       "      <td>-999.0</td>\n",
       "      <td>-999.0</td>\n",
       "      <td>-999.0</td>\n",
       "      <td>-999.0</td>\n",
       "      <td>-999.0</td>\n",
       "      <td>...</td>\n",
       "      <td>-999.0</td>\n",
       "      <td>-999.0</td>\n",
       "      <td>-999.0</td>\n",
       "      <td>-999.0</td>\n",
       "      <td>-999.0</td>\n",
       "      <td>-999.0</td>\n",
       "      <td>-999.0</td>\n",
       "      <td>-999.0</td>\n",
       "      <td>-999.0</td>\n",
       "      <td>-999.0</td>\n",
       "    </tr>\n",
       "    <tr>\n",
       "      <th>3</th>\n",
       "      <td>8196</td>\n",
       "      <td>-999.0</td>\n",
       "      <td>-999.00</td>\n",
       "      <td>-999.0</td>\n",
       "      <td>-999.0</td>\n",
       "      <td>-999.0</td>\n",
       "      <td>-999.0</td>\n",
       "      <td>-999.0</td>\n",
       "      <td>-999.0</td>\n",
       "      <td>-999.0</td>\n",
       "      <td>...</td>\n",
       "      <td>-999.0</td>\n",
       "      <td>-999.0</td>\n",
       "      <td>-999.0</td>\n",
       "      <td>-999.0</td>\n",
       "      <td>-999.0</td>\n",
       "      <td>-999.0</td>\n",
       "      <td>-999.0</td>\n",
       "      <td>-999.0</td>\n",
       "      <td>-999.0</td>\n",
       "      <td>-999.0</td>\n",
       "    </tr>\n",
       "    <tr>\n",
       "      <th>4</th>\n",
       "      <td>16387</td>\n",
       "      <td>-999.0</td>\n",
       "      <td>-999.00</td>\n",
       "      <td>-999.0</td>\n",
       "      <td>-999.0</td>\n",
       "      <td>-999.0</td>\n",
       "      <td>-999.0</td>\n",
       "      <td>-999.0</td>\n",
       "      <td>-999.0</td>\n",
       "      <td>-999.0</td>\n",
       "      <td>...</td>\n",
       "      <td>-999.0</td>\n",
       "      <td>-999.0</td>\n",
       "      <td>-999.0</td>\n",
       "      <td>-999.0</td>\n",
       "      <td>-999.0</td>\n",
       "      <td>-999.0</td>\n",
       "      <td>-999.0</td>\n",
       "      <td>-999.0</td>\n",
       "      <td>-999.0</td>\n",
       "      <td>-999.0</td>\n",
       "    </tr>\n",
       "  </tbody>\n",
       "</table>\n",
       "<p>5 rows × 491 columns</p>\n",
       "</div>"
      ],
      "text/plain": [
       "      no  UserInfo_1  UserInfo_2  UserInfo_3  UserInfo_4  ProductInfo_1  \\\n",
       "0   8192      -999.0     5226.59         0.0         0.0            0.0   \n",
       "1      1      -999.0        0.00         0.0         0.0            0.0   \n",
       "2   8195      -999.0     -999.00      -999.0      -999.0         -999.0   \n",
       "3   8196      -999.0     -999.00      -999.0      -999.0         -999.0   \n",
       "4  16387      -999.0     -999.00      -999.0      -999.0         -999.0   \n",
       "\n",
       "   UserInfo_5  UserInfo_6  ProductInfo_2  UserInfo_7      ...       \\\n",
       "0       296.0         0.0            0.0         0.0      ...        \n",
       "1      -999.0         0.0            0.0     46000.0      ...        \n",
       "2      -999.0      -999.0         -999.0      -999.0      ...        \n",
       "3      -999.0      -999.0         -999.0      -999.0      ...        \n",
       "4      -999.0      -999.0         -999.0      -999.0      ...        \n",
       "\n",
       "   UserInfo_264  UserInfo_265  ProductInfo_214  UserInfo_266  UserInfo_267  \\\n",
       "0           0.0           7.0              0.0           0.0          15.0   \n",
       "1           0.0           3.0              0.0           0.0        -999.0   \n",
       "2        -999.0        -999.0           -999.0        -999.0        -999.0   \n",
       "3        -999.0        -999.0           -999.0        -999.0        -999.0   \n",
       "4        -999.0        -999.0           -999.0        -999.0        -999.0   \n",
       "\n",
       "   ProductInfo_215  ProductInfo_216  UserInfo_268  UserInfo_269  UserInfo_270  \n",
       "0              0.0              0.0           0.0        2940.0        -999.0  \n",
       "1              0.0           -999.0           0.0           0.0        -999.0  \n",
       "2           -999.0           -999.0        -999.0        -999.0        -999.0  \n",
       "3           -999.0           -999.0        -999.0        -999.0        -999.0  \n",
       "4           -999.0           -999.0        -999.0        -999.0        -999.0  \n",
       "\n",
       "[5 rows x 491 columns]"
      ]
     },
     "execution_count": 42,
     "metadata": {},
     "output_type": "execute_result"
    }
   ],
   "source": [
    "b_train.head()\n"
   ]
  },
  {
   "cell_type": "code",
   "execution_count": 52,
   "metadata": {
    "collapsed": true
   },
   "outputs": [],
   "source": [
    "b_train_t.to_csv('B_train_dummy.csv', index=False)\n",
    "b_test_t.to_csv('B_test_dummy.csv', index = False)"
   ]
  },
  {
   "cell_type": "code",
   "execution_count": null,
   "metadata": {
    "collapsed": true
   },
   "outputs": [],
   "source": [
    "# dummy 虚假变量\n",
    "# 经过处理，原来的数据特征就变为了虚假变量 dummy"
   ]
  }
 ],
 "metadata": {
  "kernelspec": {
   "display_name": "Python 3",
   "language": "python",
   "name": "python3"
  },
  "language_info": {
   "codemirror_mode": {
    "name": "ipython",
    "version": 3
   },
   "file_extension": ".py",
   "mimetype": "text/x-python",
   "name": "python",
   "nbconvert_exporter": "python",
   "pygments_lexer": "ipython3",
   "version": "3.6.0"
  }
 },
 "nbformat": 4,
 "nbformat_minor": 2
}
