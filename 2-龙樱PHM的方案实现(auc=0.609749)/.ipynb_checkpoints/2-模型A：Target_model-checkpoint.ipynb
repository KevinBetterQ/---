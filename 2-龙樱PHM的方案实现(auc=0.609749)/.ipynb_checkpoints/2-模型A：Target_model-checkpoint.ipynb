{
 "cells": [
  {
   "cell_type": "markdown",
   "metadata": {},
   "source": [
    "对4千条业务B数据做简单特征工程，采用XGBoost的方式获得模型A然后训练得到预测"
   ]
  },
  {
   "cell_type": "code",
   "execution_count": 1,
   "metadata": {
    "collapsed": true
   },
   "outputs": [],
   "source": [
    "import pandas as pd\n",
    "import numpy as np\n",
    "from sklearn.ensemble import GradientBoostingClassifier\n",
    "from sklearn.model_selection import train_test_split,StratifiedKFold\n",
    "from sklearn.metrics import auc,roc_auc_score\n",
    "import xgboost as xgb"
   ]
  },
  {
   "cell_type": "code",
   "execution_count": 3,
   "metadata": {
    "collapsed": false
   },
   "outputs": [],
   "source": [
    "b_train = pd.read_csv('B_train_dummy.csv')\n",
    "b_test =  pd.read_csv('B_test_dummy.csv') "
   ]
  },
  {
   "cell_type": "code",
   "execution_count": 4,
   "metadata": {
    "collapsed": true
   },
   "outputs": [],
   "source": [
    "# 将train与test的列属性统一起来\n",
    "\n",
    "col = [x for x in b_train.columns if x in b_test.columns]\n",
    "col = [x for x in col if x not in ['no', 'flag']]\n"
   ]
  },
  {
   "cell_type": "code",
   "execution_count": 7,
   "metadata": {
    "collapsed": false
   },
   "outputs": [],
   "source": [
    "# 划分训练集与验证集\n",
    "\n",
    "train_X,test_X,train_Y,test_Y = train_test_split(b_train[col], b_train['flag'],test_size=0.2, random_state=0)\n",
    "\n",
    "# 获取模型的评价数据\n",
    "watchlist = [(xgb.DMatrix(train_X,label=train_Y),'train'), (xgb.DMatrix(test_X,label=test_Y),'eval')]\n"
   ]
  },
  {
   "cell_type": "code",
   "execution_count": 10,
   "metadata": {
    "collapsed": false
   },
   "outputs": [
    {
     "name": "stdout",
     "output_type": "stream",
     "text": [
      "0.7549725810948973\n"
     ]
    }
   ],
   "source": [
    "dtrain_B = xgb.DMatrix(b_train[col], b_train['flag'])\n",
    "\n",
    "# 线上效果为0.600018的参数\n",
    "Trate=0.25 \n",
    "params = {'booster':'gbtree',\n",
    "              'eta': 0.05, \n",
    "              'max_depth': 4,                  \n",
    "              'max_delta_step': 0,\n",
    "              'subsample':1,              \n",
    "              'colsample_bytree': 0.9,      \n",
    "              'base_score': Trate, \n",
    "              'objective': 'binary:logistic', \n",
    "              'lambda':3,\n",
    "              'alpha':5\n",
    "              }\n",
    "params['eval_metric'] = 'auc' \n",
    "\n",
    "# 训练模型\n",
    "model_phase_1_cla_2 = xgb.train(params,dtrain_B,num_boost_round=130,maximize=True,verbose_eval=True) \n",
    "\n",
    "# 预测\n",
    "pred = model_phase_1_cla_2.predict(xgb.DMatrix(test_X))\n",
    "# 看看auc值\n",
    "test_auc = roc_auc_score(test_Y, pred)\n",
    "print(test_auc) # 线下0.7549725810948973\n"
   ]
  },
  {
   "cell_type": "code",
   "execution_count": 11,
   "metadata": {
    "collapsed": true
   },
   "outputs": [],
   "source": [
    "# 得到测试集的预测值保存\n",
    "pred_test = model_phase_1_cla_2.predict(xgb.DMatrix(b_test[col]))\n",
    "result = pd.DataFrame()\n",
    "result['no'] = b_test['no']\n",
    "result['pred'] = pred_test[:]\n",
    "result.to_csv('subimit_target.csv',index=False)"
   ]
  },
  {
   "cell_type": "code",
   "execution_count": null,
   "metadata": {
    "collapsed": true
   },
   "outputs": [],
   "source": [
    "# 线上auc：0.600018"
   ]
  }
 ],
 "metadata": {
  "kernelspec": {
   "display_name": "Python 3",
   "language": "python",
   "name": "python3"
  },
  "language_info": {
   "codemirror_mode": {
    "name": "ipython",
    "version": 3
   },
   "file_extension": ".py",
   "mimetype": "text/x-python",
   "name": "python",
   "nbconvert_exporter": "python",
   "pygments_lexer": "ipython3",
   "version": "3.6.0"
  }
 },
 "nbformat": 4,
 "nbformat_minor": 2
}
